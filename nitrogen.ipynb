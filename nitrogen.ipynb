{
 "cells": [
  {
   "cell_type": "markdown",
   "id": "ccab2584-d324-416e-a51e-8c9697e11f18",
   "metadata": {},
   "source": [
    "# Пересчёт массы газа $N_2$ в объём."
   ]
  },
  {
   "cell_type": "markdown",
   "id": "a1330ccf-df46-487b-95cd-bcd0686d1524",
   "metadata": {},
   "source": [
    "<div align='center'>\n",
    "    <img src='./Nitrogen.Spectrum.Vis.jpg'>\n",
    "    <br/>\n",
    "    <span style='font-size:0.7rem'>Оптический эмиссионный спектр азота</span>\n",
    "</div>"
   ]
  },
  {
   "cell_type": "markdown",
   "id": "05b44337-eb81-4926-962c-7ca72ec7f5e0",
   "metadata": {},
   "source": [
    "## Уравнение состояния идеального газа `Менделеева — Клапейрона`:"
   ]
  },
  {
   "cell_type": "markdown",
   "id": "0d901409-369b-420b-99e5-ee14cdc804ad",
   "metadata": {},
   "source": [
    "$$\\Large\n",
    "    P * V = ν * R * T\n",
    "$$"
   ]
  },
  {
   "cell_type": "markdown",
   "id": "f4ba3ed3-9bc3-469c-b6e1-3331eb00ad58",
   "metadata": {},
   "source": [
    "**где**  \n",
    "  \n",
    "$P$ — давление, $Па$   \n",
    "$V$ — объём газа, $м^3$  \n",
    "$\\nu$  — количество вещества, $моль$  \n",
    "$R$ — универсальная газовая постоянная, $Дж/(моль⋅К)$  \n",
    "$T$ — термодинамическая температура, $К$ "
   ]
  },
  {
   "cell_type": "markdown",
   "id": "0c3c246d-7dc0-4d81-91cc-d15c333c8a24",
   "metadata": {},
   "source": [
    "**количество вещества**:\n",
    "\n",
    "$$\\large\n",
    "    \\nu = \\frac{m}{M}\n",
    "$$\n",
    "  \n",
    "где  \n",
    "  \n",
    "$\\nu$  — количество вещества, $моль$  \n",
    "$M$ — молярная масса, $кг/моль$   \n",
    "$m$ — масса, $кг$"
   ]
  },
  {
   "cell_type": "markdown",
   "id": "51c9f542-b026-4525-945a-a7049facf4b3",
   "metadata": {},
   "source": [
    "**плотность**:\n",
    "\n",
    "$$\\large\n",
    "     ρ = \\frac{m}{V}\n",
    "$$\n",
    "  \n",
    "где  \n",
    "  \n",
    "$ρ$  — плотность, $кг/м^3$  \n",
    "  \n",
    "$m$ — масса, $кг$   \n",
    "$V$ — объём, $м^3$"
   ]
  },
  {
   "cell_type": "markdown",
   "id": "a7661d38-e495-45f7-9c21-816f12d9df31",
   "metadata": {},
   "source": [
    "преобразуем формулу `Менделеева — Клапейрона`\n",
    "\n",
    "$$\\Large\n",
    "    P * V = \\frac{m * R * T}{M}\n",
    "$$\n",
    "  \n",
    "$$\n",
    "    V = \\frac{m * R * T}{P * M}\n",
    "$$\n",
    "  \n",
    "$$\n",
    "    \\frac{V}{m} = \\frac{R * T}{P * M}\n",
    "$$"
   ]
  },
  {
   "cell_type": "markdown",
   "id": "715761ee-d728-4980-bdd7-10002584c07d",
   "metadata": {},
   "source": [
    "**тогда**  \n",
    "  \n",
    "$$\\Large\n",
    "    ρ = \\frac{P * M}{R * T}\n",
    "$$  \n",
    "  \n",
    "где  \n",
    "  \n",
    "$\\large ρ$ – плотность газа, $кг/м^3$  \n",
    "  \n",
    "$\\large M$ – молярная масса, $кг/моль$  \n",
    "$\\large P$ – давление газа, $Па$  \n",
    "$\\large R$ – универсальная газовая постоянная, $Дж/(моль\\cdotК)$  \n",
    "$\\large T$ – температура газа, $К$"
   ]
  },
  {
   "cell_type": "markdown",
   "id": "ce25c103-e540-4aaa-afc3-4368d9cef347",
   "metadata": {},
   "source": [
    "<hr>"
   ]
  },
  {
   "cell_type": "markdown",
   "id": "21a2b871-916f-48b0-89c7-ea225d2c8a4d",
   "metadata": {},
   "source": [
    "**Для справки:**\n",
    "  \n",
    "\n",
    "$\\large t_k = t_{^{\\circ} c} + 273.15$, К  \n",
    "$\\large 1_{мм\\spaceрт.\\spaceст.} = 133.3$, Па  \n",
    "молярная масса азота = $\\large 14.007$, г/моль  \n",
    "диапазон молярных масс азота: [14.00643, 14.00728]\n"
   ]
  },
  {
   "cell_type": "markdown",
   "id": "d1683777-4fa3-4de3-adc7-f7f8b85b5fde",
   "metadata": {},
   "source": [
    "<hr>"
   ]
  },
  {
   "cell_type": "markdown",
   "id": "f0333538-725c-4d57-b8e0-3071ec550cb1",
   "metadata": {},
   "source": [
    "**Для азота** $N_2$\n",
    "  \n",
    "$ρ$ – плотность газа, $кг/м^3$  \n",
    "  \n",
    "${\\large M =\\space} (14.007 + 14.007)*10^{-3} = 28.014*10^{-3}, кг/моль$  \n",
    "${\\large P =\\space} 101308, Па$  \n",
    "${\\large R =\\space} 8.31446261815324, Дж/(моль*К)$  \n",
    "${\\large T =\\space} 273.15, K$"
   ]
  },
  {
   "cell_type": "markdown",
   "id": "e100c023-9e11-467c-befa-6c56aae96009",
   "metadata": {},
   "source": [
    "Тогда для азота $N_2$,  **при условии 0 °С и давлении 101.308 кПа** (760 мм рт. ст.).  \n",
    "  \n",
    "$$\\large\n",
    "    ρ_{N_2} = \\frac{28.014*101308}{8.31446261815324*273.15}\n",
    "$$\n",
    "\n",
    "$$\\large\n",
    "    = \\frac{2838042.312}{2271.0954641485573}\n",
    "$$\n",
    "\n",
    "$$\\large\n",
    "    = 1.249636 , кг/м^3\n",
    "$$"
   ]
  },
  {
   "cell_type": "markdown",
   "id": "a3bd89e1-377b-42ae-beb1-897d98980c0c",
   "metadata": {},
   "source": [
    "И действительно:  \n",
    "**«Газообразный азот - инертный газ без цвета и запаха плотностью 1,25046 кг/м при 0 °С и давлении 101,3 кПа.»**  \n",
    "  \n",
    "ГОСТ 9293-74"
   ]
  },
  {
   "cell_type": "markdown",
   "id": "db30cf08-3578-4ffd-a89b-7a545ecf8c94",
   "metadata": {},
   "source": [
    "<hr>"
   ]
  },
  {
   "cell_type": "code",
   "execution_count": 1,
   "id": "80b8ec24-9997-4499-a4dd-af39ae99bf90",
   "metadata": {
    "jupyter": {
     "source_hidden": true
    },
    "tags": []
   },
   "outputs": [],
   "source": [
    "import pandas as pd\n",
    "import numpy as np\n",
    "\n",
    "import matplotlib as mpl\n",
    "import matplotlib.pyplot as plt"
   ]
  },
  {
   "cell_type": "code",
   "execution_count": 2,
   "id": "dc48794b-15c4-46e3-b984-129f9638dcbc",
   "metadata": {
    "jupyter": {
     "source_hidden": true
    },
    "tags": []
   },
   "outputs": [],
   "source": [
    "def calc_density(temperature, atm=11):\n",
    "    t_celsius = temperature\n",
    "    atm = atm\n",
    "    mm_hg = ATM_HG * atm\n",
    "\n",
    "    c_to_k = t_celsius + TO_K\n",
    "    mm_hg_to_pa = round(mm_hg * TO_PA, 3)\n",
    "\n",
    "\n",
    "    p_gas = (\n",
    "        ATOMIC_WEIGHT_N2\n",
    "        * mm_hg_to_pa\n",
    "    ) / (\n",
    "        IDEAL_GAS_CONSTANT\n",
    "        * c_to_k\n",
    "    )\n",
    "    \n",
    "    return p_gas"
   ]
  },
  {
   "cell_type": "code",
   "execution_count": 3,
   "id": "efa258e2-26d6-4b8d-80cf-85f4bd3cc286",
   "metadata": {
    "jupyter": {
     "source_hidden": true
    },
    "tags": []
   },
   "outputs": [],
   "source": [
    "# style MATPLOTLIBRC\n",
    "custom_params = {\n",
    "                'figure.figsize': (7, 4),\n",
    "                'figure.facecolor': '#232425',\n",
    "                'figure.dpi': 240,\n",
    "\n",
    "                'legend.frameon': False,\n",
    "                'legend.borderpad': 1.4,\n",
    "                'legend.labelspacing': 0.7,\n",
    "                'legend.handlelength': 0.7,\n",
    "                'legend.handleheight': 0.7,\n",
    "\n",
    "                'axes.facecolor': '#232425',\n",
    "                'axes.labelcolor': '#EEEEEE',\n",
    "                'axes.labelpad': 17,\n",
    "                'axes.spines.left': False,\n",
    "                'axes.spines.bottom': False,\n",
    "                'axes.spines.right': False,\n",
    "                'axes.spines.top': False,\n",
    "                'axes.grid': False,\n",
    "\n",
    "                'contour.linewidth': 0.0,\n",
    "\n",
    "                'xtick.color': '#AAAAAA',\n",
    "                'ytick.color': '#AAAAAA',\n",
    "                'xtick.bottom': True,\n",
    "                'xtick.top': False,\n",
    "                'ytick.left': True,\n",
    "                'ytick.right': False,\n",
    "    \n",
    "                \"lines.color\": '#EEEEEE',\n",
    "\n",
    "                'text.color': '#EEEEEE',\n",
    "    \n",
    "                'font.family': 'sans-serif',\n",
    "            }"
   ]
  },
  {
   "cell_type": "markdown",
   "id": "9b8466e2-aa05-4647-a370-6dfe6e80c5f8",
   "metadata": {},
   "source": [
    "### Константы"
   ]
  },
  {
   "cell_type": "code",
   "execution_count": 4,
   "id": "afdd5337-22b0-41a9-b8c2-1a7dbe70e4ea",
   "metadata": {},
   "outputs": [],
   "source": [
    "TO_PA = 133.3\n",
    "TO_K = 273.15\n",
    "ATM_HG = 760\n",
    "ATOMIC_WEIGHT_N2 = (14.007 + 14.007) * 10 ** (-3)\n",
    "IDEAL_GAS_CONSTANT = 8.31446261815324"
   ]
  },
  {
   "cell_type": "markdown",
   "id": "45f7994d-542d-4c3d-b49a-c0817514b765",
   "metadata": {},
   "source": [
    "Расчитаем плотность **азота** при нормальных условиях:  \n",
    "0 °С и давлении 101.308 кПа (760 мм рт. ст.)"
   ]
  },
  {
   "cell_type": "code",
   "execution_count": 5,
   "id": "775ef57a-b41a-4b30-855f-e523ee2af247",
   "metadata": {
    "tags": []
   },
   "outputs": [
    {
     "name": "stdout",
     "output_type": "stream",
     "text": [
      "Плотность азота:\n",
      "1.249636 кг/м³\n"
     ]
    }
   ],
   "source": [
    "print('Плотность азота:')\n",
    "print(f'{round(calc_density(0, atm=1),6)} кг/м³')"
   ]
  },
  {
   "cell_type": "code",
   "execution_count": null,
   "id": "e2d10f59-b7ec-4d24-9246-a2aaa3840b33",
   "metadata": {
    "jupyter": {
     "source_hidden": true
    },
    "tags": []
   },
   "outputs": [],
   "source": [
    "dens_from_temp = pd.DataFrame(columns=['temperature', 'density'])\n",
    "dens_from_temp.loc[: , 'temperature'] = list(range(-30, 36, 5))\n",
    "dens_from_temp.loc[: , 'density'] = dens_from_temp.loc[: ,\n",
    "            'temperature'\n",
    "          ].apply(lambda t: calc_density(t))"
   ]
  },
  {
   "cell_type": "markdown",
   "id": "08627a22-862c-4a64-93b7-7f2b2ab3686c",
   "metadata": {},
   "source": [
    "### График зависимости газообразного азота от температуры, при давлении 11 атмосфер"
   ]
  },
  {
   "cell_type": "code",
   "execution_count": 7,
   "id": "e22b4990-0d5d-49c5-9e86-df13a693878b",
   "metadata": {
    "tags": []
   },
   "outputs": [
    {
     "data": {
      "image/png": "[encoded data removed]",
      "text/plain": [
       "<Figure size 1680x960 with 1 Axes>"
      ]
     },
     "metadata": {},
     "output_type": "display_data"
    }
   ],
   "source": [
    "with mpl.rc_context(custom_params):\n",
    "    plt.plot(\n",
    "        dens_from_temp['temperature'],\n",
    "        dens_from_temp['density'],\n",
    "        color='forestgreen',\n",
    "    )\n",
    "    plt.title('Зависимость плотности азота от температуры, при давлении 11 атмосфер.')\n",
    "    plt.xlabel('температура, °С')\n",
    "    plt.ylabel('плотность, кг/м³')\n",
    "    plt.show()"
   ]
  },
  {
   "cell_type": "markdown",
   "id": "fa3c0180-4905-4456-a945-c70bbe7d3f72",
   "metadata": {},
   "source": [
    "Таблица зависимости плотности азота от температуры, при давлении 11 атмосфер."
   ]
  },
  {
   "cell_type": "code",
   "execution_count": 8,
   "id": "4093c9f5-1454-49cf-b94a-73bf39ae10e9",
   "metadata": {
    "tags": []
   },
   "outputs": [
    {
     "data": {
      "text/html": [
       "<div>\n",
       "<style scoped>\n",
       "    .dataframe tbody tr th:only-of-type {\n",
       "        vertical-align: middle;\n",
       "    }\n",
       "\n",
       "    .dataframe tbody tr th {\n",
       "        vertical-align: top;\n",
       "    }\n",
       "\n",
       "    .dataframe thead th {\n",
       "        text-align: right;\n",
       "    }\n",
       "</style>\n",
       "<table border=\"1\" class=\"dataframe\">\n",
       "  <thead>\n",
       "    <tr style=\"text-align: right;\">\n",
       "      <th></th>\n",
       "      <th>temperature</th>\n",
       "      <th>density</th>\n",
       "    </tr>\n",
       "  </thead>\n",
       "  <tbody>\n",
       "    <tr>\n",
       "      <th>0</th>\n",
       "      <td>-30</td>\n",
       "      <td>15.441984</td>\n",
       "    </tr>\n",
       "    <tr>\n",
       "      <th>1</th>\n",
       "      <td>-25</td>\n",
       "      <td>15.130842</td>\n",
       "    </tr>\n",
       "    <tr>\n",
       "      <th>2</th>\n",
       "      <td>-20</td>\n",
       "      <td>14.831990</td>\n",
       "    </tr>\n",
       "    <tr>\n",
       "      <th>3</th>\n",
       "      <td>-15</td>\n",
       "      <td>14.544716</td>\n",
       "    </tr>\n",
       "    <tr>\n",
       "      <th>4</th>\n",
       "      <td>-10</td>\n",
       "      <td>14.268358</td>\n",
       "    </tr>\n",
       "    <tr>\n",
       "      <th>5</th>\n",
       "      <td>-5</td>\n",
       "      <td>14.002306</td>\n",
       "    </tr>\n",
       "    <tr>\n",
       "      <th>6</th>\n",
       "      <td>0</td>\n",
       "      <td>13.745994</td>\n",
       "    </tr>\n",
       "    <tr>\n",
       "      <th>7</th>\n",
       "      <td>5</td>\n",
       "      <td>13.498898</td>\n",
       "    </tr>\n",
       "    <tr>\n",
       "      <th>8</th>\n",
       "      <td>10</td>\n",
       "      <td>13.260527</td>\n",
       "    </tr>\n",
       "    <tr>\n",
       "      <th>9</th>\n",
       "      <td>15</td>\n",
       "      <td>13.030430</td>\n",
       "    </tr>\n",
       "    <tr>\n",
       "      <th>10</th>\n",
       "      <td>20</td>\n",
       "      <td>12.808181</td>\n",
       "    </tr>\n",
       "    <tr>\n",
       "      <th>11</th>\n",
       "      <td>25</td>\n",
       "      <td>12.593387</td>\n",
       "    </tr>\n",
       "    <tr>\n",
       "      <th>12</th>\n",
       "      <td>30</td>\n",
       "      <td>12.385678</td>\n",
       "    </tr>\n",
       "    <tr>\n",
       "      <th>13</th>\n",
       "      <td>35</td>\n",
       "      <td>12.184710</td>\n",
       "    </tr>\n",
       "  </tbody>\n",
       "</table>\n",
       "</div>"
      ],
      "text/plain": [
       "    temperature    density\n",
       "0           -30  15.441984\n",
       "1           -25  15.130842\n",
       "2           -20  14.831990\n",
       "3           -15  14.544716\n",
       "4           -10  14.268358\n",
       "5            -5  14.002306\n",
       "6             0  13.745994\n",
       "7             5  13.498898\n",
       "8            10  13.260527\n",
       "9            15  13.030430\n",
       "10           20  12.808181\n",
       "11           25  12.593387\n",
       "12           30  12.385678\n",
       "13           35  12.184710"
      ]
     },
     "metadata": {},
     "output_type": "display_data"
    }
   ],
   "source": [
    "display(dens_from_temp)"
   ]
  }
 ],
 "metadata": {
  "kernelspec": {
   "display_name": "Python 3 (ipykernel)",
   "language": "python",
   "name": "python3"
  },
  "language_info": {
   "codemirror_mode": {
    "name": "ipython",
    "version": 3
   },
   "file_extension": ".py",
   "mimetype": "text/x-python",
   "name": "python",
   "nbconvert_exporter": "python",
   "pygments_lexer": "ipython3",
   "version": "3.10.6"
  }
 },
 "nbformat": 4,
 "nbformat_minor": 5
}
